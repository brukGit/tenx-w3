{
 "cells": [
  {
   "cell_type": "markdown",
   "metadata": {},
   "source": [
    "# Statistical Modeling for AlphaCare Insurance Solutions (ACIS)\n",
    "\n",
    "This notebook performs statistical modeling on the insurance claim data to predict TotalPremium and analyze feature importance."
   ]
  },
  {
   "cell_type": "code",
   "execution_count": 7,
   "metadata": {},
   "outputs": [],
   "source": [
    "import sys\n",
    "import os\n",
    "import pandas as pd\n",
    "import numpy as np\n",
    "import matplotlib.pyplot as plt\n",
    "import seaborn as sns\n",
    "import shap\n",
    "from sklearn.ensemble import RandomForestRegressor\n",
    "from sklearn.preprocessing import StandardScaler, MinMaxScaler\n",
    "from sklearn.model_selection import GridSearchCV\n",
    "from xgboost import XGBRegressor\n",
    "from sklearn.metrics import mean_squared_error, r2_score\n",
    "from sklearn.preprocessing import LabelEncoder\n",
    "\n",
    "# Define the path to the src directory\n",
    "src_dir = os.path.abspath(os.path.join(os.getcwd(), '..', 'src'))\n",
    "sys.path.insert(0, src_dir)\n",
    "\n"
   ]
  },
  {
   "cell_type": "code",
   "execution_count": 14,
   "metadata": {},
   "outputs": [
    {
     "name": "stderr",
     "output_type": "stream",
     "text": [
      "e:\\Studies\\tenx\\w3\\src\\data_loader.py:15: DtypeWarning: Columns (32,37) have mixed types. Specify dtype option on import or set low_memory=False.\n",
      "  self.data = pd.read_csv(self.file_path, sep='|')\n",
      "e:\\Studies\\tenx\\w3\\src\\data_loader.py:32: SettingWithCopyWarning: \n",
      "A value is trying to be set on a copy of a slice from a DataFrame.\n",
      "Try using .loc[row_indexer,col_indexer] = value instead\n",
      "\n",
      "See the caveats in the documentation: https://pandas.pydata.org/pandas-docs/stable/user_guide/indexing.html#returning-a-view-versus-a-copy\n",
      "  df[numeric_columns] = numeric_imputer.fit_transform(df[numeric_columns])\n",
      "e:\\Studies\\tenx\\w3\\src\\data_loader.py:37: SettingWithCopyWarning: \n",
      "A value is trying to be set on a copy of a slice from a DataFrame.\n",
      "Try using .loc[row_indexer,col_indexer] = value instead\n",
      "\n",
      "See the caveats in the documentation: https://pandas.pydata.org/pandas-docs/stable/user_guide/indexing.html#returning-a-view-versus-a-copy\n",
      "  df[categorical_columns] = categorical_imputer.fit_transform(df[categorical_columns])\n"
     ]
    }
   ],
   "source": [
    "if 'data_loader' in sys.modules:\n",
    "    del sys.modules['data_loader']\n",
    "if 'statistical_modeling' in sys.modules:\n",
    "    del sys.modules['statistical_modeling']\n",
    "if 'statistical_modeling_improved' in sys.modules:\n",
    "    del sys.modules['statistical_modeling_improved']\n",
    "\n",
    "from data_loader import DataLoader\n",
    "from statistical_modeling import StatisticalModeling\n",
    "\n",
    "\n",
    "# Load data\n",
    "data_loader = DataLoader('../resources/Data/machineLearning.txt')\n",
    "data = data_loader.load_data()"
   ]
  },
  {
   "cell_type": "code",
   "execution_count": null,
   "metadata": {},
   "outputs": [],
   "source": [
    "# Initialize StatisticalModeling\n",
    "modeling = StatisticalModeling(data)\n",
    "\n",
    "# Handle missing data and perform feature engineering\n",
    "data = modeling.handle_missing_data()\n"
   ]
  },
  {
   "cell_type": "code",
   "execution_count": 5,
   "metadata": {},
   "outputs": [],
   "source": [
    "# Function to plot feature importance\n",
    "def plot_feature_importance(importance_df, title):\n",
    "    plt.figure(figsize=(10, 6))\n",
    "    sns.barplot(x='importance', y='feature', data=importance_df.head(20))\n",
    "    plt.title(title)\n",
    "    plt.tight_layout()\n",
    "    plt.show()\n",
    "\n",
    "# Function to plot SHAP values\n",
    "def plot_shap_values(shap_values, X_train, title):\n",
    "    plt.figure(figsize=(10, 6))\n",
    "    shap.summary_plot(shap_values, X_train, plot_type=\"bar\")\n",
    "    plt.title(title)\n",
    "    plt.tight_layout()\n",
    "    plt.show()\n",
    "\n"
   ]
  },
  {
   "cell_type": "code",
   "execution_count": null,
   "metadata": {},
   "outputs": [],
   "source": [
    "# Analyze TotalClaims\n",
    "print(\"Analyzing TotalClaims...\")\n",
    "results_claims = modeling.run_analysis('TotalClaims')\n",
    "\n"
   ]
  },
  {
   "cell_type": "code",
   "execution_count": null,
   "metadata": {},
   "outputs": [],
   "source": [
    "for model_name, result in results_claims.items():\n",
    "    print(f\"\\n{model_name} Results:\")\n",
    "    print(f\"MSE: {result['mse']:.4f}\")\n",
    "    print(f\"R2 Score: {result['r2']:.4f}\")\n",
    "    \n",
    "    plot_feature_importance(result['feature_importance'], f\"{model_name} Feature Importance for TotalClaims\")\n",
    "    \n",
    "    if 'shap_values' in result:\n",
    "        plot_shap_values(result['shap_values'], result['model'].X_train, f\"{model_name} SHAP Values for TotalClaims\")"
   ]
  },
  {
   "cell_type": "code",
   "execution_count": null,
   "metadata": {},
   "outputs": [],
   "source": [
    "# Analyze TotalPremium\n",
    "print(\"\\nAnalyzing TotalPremium...\")\n",
    "results_premium = modeling.run_analysis('TotalPremium')\n",
    "\n",
    "for model_name, result in results_premium.items():\n",
    "    print(f\"\\n{model_name} Results:\")\n",
    "    print(f\"MSE: {result['mse']:.4f}\")\n",
    "    print(f\"R2 Score: {result['r2']:.4f}\")\n",
    "    \n",
    "    plot_feature_importance(result['feature_importance'], f\"{model_name} Feature Importance for TotalPremium\")\n",
    "    \n",
    "    if 'shap_values' in result:\n",
    "        plot_shap_values(result['shap_values'], result['model'].X_train, f\"{model_name} SHAP Values for TotalPremium\")\n",
    "\n"
   ]
  },
  {
   "cell_type": "code",
   "execution_count": null,
   "metadata": {},
   "outputs": [],
   "source": [
    "# Compare model performance\n",
    "def compare_models(results_claims, results_premium):\n",
    "    models = list(results_claims.keys())\n",
    "    mse_claims = [results_claims[model]['mse'] for model in models]\n",
    "    r2_claims = [results_claims[model]['r2'] for model in models]\n",
    "    mse_premium = [results_premium[model]['mse'] for model in models]\n",
    "    r2_premium = [results_premium[model]['r2'] for model in models]\n",
    "\n",
    "    fig, (ax1, ax2) = plt.subplots(1, 2, figsize=(15, 6))\n",
    "\n",
    "    x = np.arange(len(models))\n",
    "    width = 0.35\n",
    "\n",
    "    ax1.bar(x - width/2, mse_claims, width, label='TotalClaims')\n",
    "    ax1.bar(x + width/2, mse_premium, width, label='TotalPremium')\n",
    "    ax1.set_ylabel('Mean Squared Error')\n",
    "    ax1.set_title('MSE Comparison')\n",
    "    ax1.set_xticks(x)\n",
    "    ax1.set_xticklabels(models)\n",
    "    ax1.legend()\n",
    "\n",
    "    ax2.bar(x - width/2, r2_claims, width, label='TotalClaims')\n",
    "    ax2.bar(x + width/2, r2_premium, width, label='TotalPremium')\n",
    "    ax2.set_ylabel('R2 Score')\n",
    "    ax2.set_title('R2 Score Comparison')\n",
    "    ax2.set_xticks(x)\n",
    "    ax2.set_xticklabels(models)\n",
    "    ax2.legend()\n",
    "\n",
    "    plt.tight_layout()\n",
    "    plt.show()\n",
    "\n",
    "compare_models(results_claims, results_premium)\n",
    "\n",
    "# Print final conclusions\n",
    "print(\"\\nFinal Conclusions:\")\n",
    "best_model_claims = max(results_claims, key=lambda x: results_claims[x]['r2'])\n",
    "best_model_premium = max(results_premium, key=lambda x: results_premium[x]['r2'])\n",
    "\n",
    "print(f\"Best model for TotalClaims: {best_model_claims}\")\n",
    "print(f\"Best model for TotalPremium: {best_model_premium}\")\n",
    "\n",
    "print(\"\\nTop 5 features for TotalClaims:\")\n",
    "print(results_claims[best_model_claims]['feature_importance'].head())\n",
    "\n",
    "print(\"\\nTop 5 features for TotalPremium:\")\n",
    "print(results_premium[best_model_premium]['feature_importance'].head())"
   ]
  }
 ],
 "metadata": {
  "kernelspec": {
   "display_name": "Python 3",
   "language": "python",
   "name": "python3"
  },
  "language_info": {
   "codemirror_mode": {
    "name": "ipython",
    "version": 3
   },
   "file_extension": ".py",
   "mimetype": "text/x-python",
   "name": "python",
   "nbconvert_exporter": "python",
   "pygments_lexer": "ipython3",
   "version": "3.12.4"
  }
 },
 "nbformat": 4,
 "nbformat_minor": 4
}
