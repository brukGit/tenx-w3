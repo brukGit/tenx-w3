{
 "cells": [
  {
   "cell_type": "markdown",
   "metadata": {},
   "source": [
    "# Exploratory Data Analysis for AlphaCare Insurance Solutions (ACIS)\n",
    "\n",
    "This notebook contains the exploratory data analysis for the car insurance data from AlphaCare Insurance Solutions (ACIS). The analysis aims to help optimize the marketing strategy and discover \"low-risk\" targets for which the premium could be reduced."
   ]
  },
  {
   "cell_type": "code",
   "execution_count": null,
   "metadata": {},
   "outputs": [],
   "source": [
    "import sys\n",
    "sys.path.append('..')\n",
    "\n",
    "import pandas as pd\n",
    "import matplotlib.pyplot as plt\n",
    "import seaborn as sns\n",
    "from src.data_loader import DataLoader\n",
    "from src.eda import EDA\n",
    "from src.statistical_analysis import StatisticalAnalysis"
   ]
  },
  {
   "cell_type": "markdown",
   "metadata": {},
   "source": [
    "## 1. Data Loading and Initial Exploration"
   ]
  },
  {
   "cell_type": "code",
   "execution_count": null,
   "metadata": {},
   "outputs": [],
   "source": [
    "data_loader = DataLoader('../resources/Data/machineLearning.txt')\n",
    "data = data_loader.load_data()\n",
    "print(data.head())\n",
    "print(data.info())"
   ]
  },
  {
   "cell_type": "markdown",
   "metadata": {},
   "source": [
    "## 2. Data Quality Assessment"
   ]
  },
  {
   "cell_type": "code",
   "execution_count": null,
   "metadata": {},
   "outputs": [],
   "source": [
    "missing_values = data_loader.check_missing_values()\n",
    "print(\"Missing values:\")\n",
    "print(missing_values)\n",
    "\n",
    "# Check data types\n",
    "print(\"\\nData types:\")\n",
    "print(data.dtypes)"
   ]
  },
  {
   "cell_type": "markdown",
   "metadata": {},
   "source": [
    "## 3. Univariate Analysis"
   ]
  },
  {
   "cell_type": "code",
   "execution_count": null,
   "metadata": {},
   "outputs": [],
   "source": [
    "eda = EDA(data)\n",
    "\n",
    "# Numerical columns\n",
    "numerical_cols = ['TotalPremium', 'TotalClaims', 'SumInsured', 'CalculatedPremiumPerTerm']\n",
    "eda.plot_histograms(numerical_cols, 'output')\n",
    "\n",
    "# Categorical columns\n",
    "categorical_cols = ['Citizenship', 'LegalType', 'MaritalStatus', 'Gender', 'ItemType', 'VehicleType']\n",
    "for col in categorical_cols:\n",
    "    plt.figure(figsize=(10, 6))\n",
    "    data[col].value_counts().plot(kind='bar')\n",
    "    plt.title(f'Distribution of {col}')\n",
    "    plt.tight_layout()\n",
    "    plt.show()"
   ]
  },
  {
   "cell_type": "markdown",
   "metadata": {},
   "source": [
    "## 4. Bivariate and Multivariate Analysis"
   ]
  },
  {
   "cell_type": "code",
   "execution_count": null,
   "metadata": {},
   "outputs": [],
   "source": [
    "# Correlation matrix\n",
    "eda.plot_correlation_matrix('output')\n",
    "\n",
    "# Scatter plot of TotalPremium vs TotalClaims\n",
    "plt.figure(figsize=(10, 6))\n",
    "sns.scatterplot(x='TotalPremium', y='TotalClaims', data=data)\n",
    "plt.title('TotalPremium vs TotalClaims')\n",
    "plt.show()\n",
    "\n",
    "# Box plot of TotalPremium by VehicleType\n",
    "plt.figure(figsize=(12, 6))\n",
    "sns.boxplot(x='VehicleType', y='TotalPremium', data=data)\n",
    "plt.title('TotalPremium by VehicleType')\n",
    "plt.xticks(rotation=45)\n",
    "plt.show()"
   ]
  },
  {
   "cell_type": "markdown",
   "metadata": {},
   "source": [
    "## 5. Outlier Detection"
   ]
  },
  {
   "cell_type": "code",
   "execution_count": null,
   "metadata": {},
   "outputs": [],
   "source": [
    "eda.plot_boxplots(numerical_cols, 'output')"
   ]
  },
  {
   "cell_type": "markdown",
   "metadata": {},
   "source": [
    "## 6. Trends Over Geography"
   ]
  },
  {
   "cell_type": "code",
   "execution_count": null,
   "metadata": {},
   "outputs": [],
   "source": [
    "# Average premium by Province\n",
    "avg_premium_by_province = data.groupby('Province')['TotalPremium'].mean().sort_values(ascending=False)\n",
    "plt.figure(figsize=(12, 6))\n",
    "avg_premium_by_province.plot(kind='bar')\n",
    "plt.title('Average Premium by Province')\n",
    "plt.ylabel('Average Premium')\n",
    "plt.xticks(rotation=45)\n",
    "plt.show()\n",
    "\n",
    "# Distribution of CoverType by Province\n",
    "cover_type_by_province = pd.crosstab(data['Province'], data['CoverType'], normalize='index')\n",
    "cover_type_by_province.plot(kind='bar', stacked=True, figsize=(12, 6))\n",
    "plt.title('Distribution of Cover Type by Province')\n",
    "plt.ylabel('Proportion')\n",
    "plt.legend(title='Cover Type', bbox_to_anchor=(1.05, 1), loc='upper left')\n",
    "plt.tight_layout()\n",
    "plt.show()"
   ]
  },
  {
   "cell_type": "markdown",
   "metadata": {},
   "source": [
    "## 7. Statistical Analysis"
   ]
  },
  {
   "cell_type": "code",
   "execution_count": null,
   "metadata": {},
   "outputs": [],
   "source": [
    "stats_analysis = StatisticalAnalysis(data)\n",
    "\n",
    "# Confidence interval for TotalPremium\n",
    "ci_premium = stats_analysis.calculate_confidence_interval('TotalPremium')\n",
    "print(f\"95% Confidence Interval for TotalPremium: {ci_premium}\")\n",
    "\n",
    "# T-test between TotalPremium for different genders\n",
    "male_premiums = data[data['Gender'] == 'Male']['TotalPremium']\n",
    "female_premiums = data[data['Gender'] == 'Female']['TotalPremium']\n",
    "t_stat, p_value = stats.ttest_ind(male_premiums, female_premiums)\n",
    "print(f\"T-test results for TotalPremium between genders: t-statistic = {t_stat}, p-value = {p_value}\")\n",
    "\n",
    "# Correlation between TotalPremium and SumInsured\n",
    "correlation = stats_analysis.calculate_correlation('TotalPremium', 'SumInsured')\n",
    "print(f\"Correlation between TotalPremium and SumInsured: {correlation}\")"
   ]
  },
  {
   "cell_type": "markdown",
   "metadata": {},
   "source": [
    "## 8. Key Insights and Recommendations\n",
    "\n",
    "Based on the exploratory data analysis, here are some key insights and recommendations:\n",
    "\n",
    "1. [Insert key insight 1]\n",
    "2. [Insert key insight 2]\n",
    "3. [Insert key insight 3]\n",
    "\n",
    "Recommendations for optimizing marketing strategy:\n",
    "1. [Insert recommendation 1]\n",
    "2. [Insert recommendation 2]\n",
    "3. [Insert recommendation 3]\n",
    "\n",
    "Potential \"low-risk\" targets for reduced premiums:\n",
    "1. [Insert target group 1]\n",
    "2. [Insert target group 2]\n",
    "3. [Insert target group 3]"
   ]
  }
 ],
 "metadata": {
  "kernelspec": {
   "display_name": "Python 3",
   "language": "python",
   "name": "python3"
  },
  "language_info": {
   "codemirror_mode": {
    "name": "ipython",
    "version": 3
   },
   "file_extension": ".py",
   "mimetype": "text/x-python",
   "name": "python",
   "nbconvert_exporter": "python",
   "pygments_lexer": "ipython3",
   "version": "3.8.5"
  }
 },
 "nbformat": 4,
 "nbformat_minor": 4
}
